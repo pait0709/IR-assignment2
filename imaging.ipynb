{
 "cells": [
  {
   "cell_type": "code",
   "execution_count": 18,
   "metadata": {},
   "outputs": [],
   "source": [
    "import os\n",
    "import cv2\n",
    "import numpy as np\n",
    "import random\n",
    "\n",
    "\n",
    "from scipy.spatial.distance import cosine\n",
    "from keras.applications import MobileNet\n",
    "from keras.applications.mobilenet import preprocess_input\n",
    "from keras.models import Model\n",
    "from sklearn.metrics.pairwise import cosine_similarity\n",
    "import matplotlib.pyplot as plt\n",
    "\n"
   ]
  },
  {
   "cell_type": "code",
   "execution_count": 19,
   "metadata": {},
   "outputs": [],
   "source": [
    "index_of_features={}\n",
    "import pickle\n",
    "\n",
    "def preprocess_image(image_path, target_size=(224, 224)):\n",
    "    image = cv2.imread(image_path)\n",
    "    image = cv2.cvtColor(image, cv2.COLOR_BGR2RGB)\n",
    "    image = cv2.resize(image, target_size)\n",
    "    if random.random() > 0.5:\n",
    "        image = cv2.flip(image, 1)\n",
    "    \n",
    "    #show image\n",
    "    return image\n",
    "\n",
    "def extract_features(image):\n",
    "    model = MobileNet(weights='imagenet', include_top=False, pooling='avg')\n",
    "    image = preprocess_input(image)\n",
    "    features = model.predict(np.expand_dims(image, axis=0))\n",
    "    return features.flatten()\n",
    "\n",
    "def normalize_features(features):\n",
    "    normalized_features = (features - np.mean(features)) / np.std(features)\n",
    "    return normalized_features\n",
    "\n",
    "def retrieve_similar_images(query_features, database_features, top_k=5):\n",
    "    similarity_scores=[]\n",
    "    for img_path, features in database_features.items():\n",
    "        similarity = 1-cosine(query_features, features)\n",
    "        similarity_scores.append((img_path, similarity))\n",
    "    similarity_scores = sorted(similarity_scores, key=lambda x: x[1], reverse=True)\n",
    "    return similarity_scores[:top_k]\n",
    "\n",
    "def save_features(image_folder):\n",
    "    image_files = [f for f in os.listdir(image_folder) if os.path.isfile(os.path.join(image_folder, f))]\n",
    "\n",
    "    for image_file in image_files:\n",
    "        image_path = os.path.join(image_folder, image_file)\n",
    "        image = preprocess_image(image_path)\n",
    "        features = extract_features(image)\n",
    "        normalized_features = normalize_features(features)\n",
    "        index_of_features[image_file] = normalized_features\n",
    "    with open('index_of_features.pkl', 'wb') as f:\n",
    "        pickle.dump(index_of_features, f)\n",
    "\n",
    "\n",
    "# Image folder path\n",
    "os.chdir('/Users/pait/Desktop/Coding/IR')\n",
    "image_folder = \"images\"\n",
    "\n",
    "\n",
    "# Preprocess images, extract features, normalize, and save features\n",
    "# save_features(image_folder)\n"
   ]
  },
  {
   "cell_type": "code",
   "execution_count": 20,
   "metadata": {},
   "outputs": [
    {
     "name": "stderr",
     "output_type": "stream",
     "text": [
      "/var/folders/jn/wrxkscs132b57q3hp4ch7ffc0000gn/T/ipykernel_68206/1084561815.py:15: UserWarning: `input_shape` is undefined or non-square, or `rows` is not in [128, 160, 192, 224]. Weights for input shape (224, 224) will be loaded as the default.\n",
      "  model = MobileNet(weights='imagenet', include_top=False, pooling='avg')\n"
     ]
    },
    {
     "name": "stdout",
     "output_type": "stream",
     "text": [
      "\u001b[1m1/1\u001b[0m \u001b[32m━━━━━━━━━━━━━━━━━━━━\u001b[0m\u001b[37m\u001b[0m \u001b[1m0s\u001b[0m 402ms/step\n",
      "Top similar images indices: [('1.jpg', 0.9999999999999982), ('1406.jpg', 0.5682614106976155), ('321.jpg', 0.566913204399145), ('49.jpg', 0.5373345497847712), ('1236.jpg', 0.5310489255815113)]\n"
     ]
    }
   ],
   "source": [
    "\n",
    "query_image_path = \"images/1.jpg\"\n",
    "query_image = preprocess_image(query_image_path)\n",
    "query_features = extract_features(query_image)\n",
    "query_features_normalized = normalize_features(query_features)\n",
    "\n",
    "with open('index_of_features.pkl', 'rb') as f:\n",
    "    database_features = pickle.load(f)\n",
    "\n",
    "\n",
    "# Retrieve similar images\n",
    "top_indices = retrieve_similar_images(query_features_normalized, database_features, top_k=5)\n",
    "print(\"Top similar images indices:\", top_indices)"
   ]
  },
  {
   "cell_type": "code",
   "execution_count": 21,
   "metadata": {},
   "outputs": [],
   "source": [
    "import pickle\n",
    "with open ('index_of_features.pkl', 'rb') as f:\n",
    "    index_of_features = pickle.load(f)"
   ]
  },
  {
   "cell_type": "code",
   "execution_count": 22,
   "metadata": {},
   "outputs": [
    {
     "name": "stdout",
     "output_type": "stream",
     "text": [
      "1024\n"
     ]
    }
   ],
   "source": [
    "print(len(index_of_features['1.jpg']))"
   ]
  }
 ],
 "metadata": {
  "kernelspec": {
   "display_name": "IR_env",
   "language": "python",
   "name": "python3"
  },
  "language_info": {
   "codemirror_mode": {
    "name": "ipython",
    "version": 3
   },
   "file_extension": ".py",
   "mimetype": "text/x-python",
   "name": "python",
   "nbconvert_exporter": "python",
   "pygments_lexer": "ipython3",
   "version": "3.12.1"
  }
 },
 "nbformat": 4,
 "nbformat_minor": 2
}
