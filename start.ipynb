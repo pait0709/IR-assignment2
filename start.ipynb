{
 "cells": [
  {
   "cell_type": "code",
   "execution_count": 33,
   "metadata": {},
   "outputs": [
    {
     "name": "stdout",
     "output_type": "stream",
     "text": [
      "(1000, 3)\n",
      "Index(['Product_id', 'Image', 'Review Text'], dtype='object')\n"
     ]
    }
   ],
   "source": [
    "import pandas as pd\n",
    "import numpy as np\n",
    "import matplotlib.pyplot as plt\n",
    "os.chdir('/Users/pait/Desktop/Coding/IR')\n",
    "# Read in the data\n",
    "df = pd.read_csv('A2_data.csv')\n",
    "df.head()\n",
    "print(df.shape)\n",
    "#print the column names\n",
    "print(df.columns)\n"
   ]
  },
  {
   "cell_type": "code",
   "execution_count": null,
   "metadata": {},
   "outputs": [
    {
     "name": "stdout",
     "output_type": "stream",
     "text": [
      "Image https://images-na.ssl-images-amazon.com/images/I/71F3npeHUDL._SY88.jpg not found\n",
      "Image https://images-na.ssl-images-amazon.com/images/I/71wHUWncMGL._SY88.jpg not found\n",
      "Image https://images-na.ssl-images-amazon.com/images/I/71B8OOE5N8L._SY88.jpg not found\n",
      "Image https://images-na.ssl-images-amazon.com/images/I/81SX3oAWbNL._SY88.jpg not found\n",
      "Image https://images-na.ssl-images-amazon.com/images/I/718niQ1GEwL._SY88.jpg not found\n",
      "Image https://images-na.ssl-images-amazon.com/images/I/61OboZT-kcL._SY88.jpg not found\n",
      "Image https://images-na.ssl-images-amazon.com/images/I/710a2Pyh5lL._SY88.jpg not found\n",
      "Image https://images-na.ssl-images-amazon.com/images/I/816NMd0LexL._SY88.jpg not found\n"
     ]
    }
   ],
   "source": [
    "#download the images in the second column into a folder\n",
    "import urllib.request\n",
    "import os\n",
    "import requests\n",
    "import ast\n",
    "from PIL import Image\n",
    "from io import BytesIO\n",
    "\n",
    "os.chdir('/Users/pait/Desktop/Coding/IR')\n",
    "# Create a folder to store the images\n",
    "folder = 'images'\n",
    "if not os.path.exists(folder):\n",
    "    os.makedirs(folder)\n",
    "\n",
    "os.chdir(folder)\n",
    "\n",
    "image_number_to_product_id = {}\n",
    "image_number=1\n",
    "\n",
    "for i in range(len(df)):\n",
    "    url_list_str = df['Image'].iloc[i]\n",
    "    url_list = ast.literal_eval(url_list_str)\n",
    "    for url in url_list:\n",
    "        response = requests.get(url)\n",
    "        if response.status_code == 200:\n",
    "            img = Image.open(BytesIO(response.content))\n",
    "            #save in images folder\n",
    "\n",
    "            \n",
    "\n",
    "            img.save(f'{image_number}.jpg')\n",
    "            \n",
    "            image_number_to_product_id[image_number] = df['Product_id'].iloc[i]\n",
    "            image_number += 1\n",
    "        else:\n",
    "            print(f\"Image {url} not found\")\n",
    "\n"
   ]
  },
  {
   "cell_type": "code",
   "execution_count": 29,
   "metadata": {},
   "outputs": [],
   "source": [
    "import os\n",
    "\n",
    "import pickle\n",
    "with open('image_number_to_product_id.pkl', 'wb') as f:\n",
    "    pickle.dump(image_number_to_product_id, f)"
   ]
  },
  {
   "cell_type": "code",
   "execution_count": 30,
   "metadata": {},
   "outputs": [],
   "source": [
    "#save the dictionary to a file using pickle\n",
    "\n",
    "\n",
    "with open('image_number_to_product_id.pkl','rb') as f:\n",
    "    sample_dict = pickle.load(f)"
   ]
  },
  {
   "cell_type": "code",
   "execution_count": 34,
   "metadata": {},
   "outputs": [
    {
     "name": "stdout",
     "output_type": "stream",
     "text": [
      "733\n"
     ]
    }
   ],
   "source": [
    "#print the key for value 2528\n",
    "for key, value in sample_dict.items():\n",
    "    if value == 3184:\n",
    "        print(key)"
   ]
  },
  {
   "cell_type": "code",
   "execution_count": null,
   "metadata": {},
   "outputs": [],
   "source": []
  }
 ],
 "metadata": {
  "kernelspec": {
   "display_name": "IR_env",
   "language": "python",
   "name": "python3"
  },
  "language_info": {
   "codemirror_mode": {
    "name": "ipython",
    "version": 3
   },
   "file_extension": ".py",
   "mimetype": "text/x-python",
   "name": "python",
   "nbconvert_exporter": "python",
   "pygments_lexer": "ipython3",
   "version": "3.12.1"
  }
 },
 "nbformat": 4,
 "nbformat_minor": 2
}
